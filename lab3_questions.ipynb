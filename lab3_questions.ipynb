{
 "cells": [
  {
   "attachments": {},
   "cell_type": "markdown",
   "id": "26cf5d84-cfef-4446-8191-d3243e5287f6",
   "metadata": {},
   "source": [
    "## Lab 3: pandas\n",
    "\n",
    "#### Introduction\n",
    "\n",
    "We will examine a dataset containing characteristics of lego sets manufactured between 1961 and 2019 from the BRICKSET website. Variables in the dataset are described below.\n",
    "\n",
    "| VARIABLE             |      DESCRIPTION             |\n",
    "|:----------|:-------------|\n",
    "| ID |  set id |\n",
    "| Name |    name of set   |\n",
    "| Themegroup | themegroup of set |\n",
    "| Theme |  theme of set |\n",
    "| Subtheme |    subtheme of set   |\n",
    "| Year | year released |\n",
    "| Pieces |  number of pieces |\n",
    "| Minifig |    number of minifigs   |\n",
    "| Package | type of packaging |\n",
    "| Retail_Price |  recommended retail pri\n",
    "\n",
    "\n",
    "\n",
    "Load pandas to read in the data and save it as dataframe named lego."
   ]
  },
  {
   "cell_type": "code",
   "execution_count": 1,
   "id": "c5749932-fc68-41af-9354-8ef58288707f",
   "metadata": {},
   "outputs": [],
   "source": [
    "import pandas as pd\n",
    "\n",
    "lego = pd.read_csv('lego.csv')"
   ]
  },
  {
   "attachments": {},
   "cell_type": "markdown",
   "id": "cc9d92c3-501a-4b50-a345-806b102b6a76",
   "metadata": {},
   "source": [
    "#### Question 1:\n",
    "Some sets have missing information for retail_price or pieces or both. This could be because the sets are free (giveaways), they aren’t traditional lego sets (comic books, etc) or just because the information is missing. Filter the lego dataset based on the specifications below and save the result as lego. Hence, you will overwrite the original lego object. In addition, describe the implications of removing these sets.\n",
    "\n",
    "Your new lego (data frame) should have:\n",
    "\n",
    "• no missing pieces\n",
    "\n",
    "• only contain sets with a nonzero number of pieces\n",
    "\n",
    "• no missing retail_price\n",
    "\n",
    "• only contain sets with a nonzero retail_price\n",
    "\n",
    "• no missing year\n",
    "\n",
    "- Print out the shape of the dataframe after cleaning the dataset.\n",
    "- "
   ]
  },
  {
   "cell_type": "code",
   "execution_count": 1,
   "id": "9d5c1301-b2ee-4c0d-9b5a-5a8a3e625ecd",
   "metadata": {},
   "outputs": [],
   "source": [
    "# Write your answer here\n",
    "# Filter the dataset\n",
    "lego = lego.dropna(subset=['pieces', 'retail_price', 'year'])\n",
    "lego = lego[(lego['pieces'] > 0) & (lego['retail_price'] > 0)]\n",
    "\n",
    "# Print the shape of the dataframe\n",
    "print(lego.shape)\n"
   ]
  },
  {
   "attachments": {},
   "cell_type": "markdown",
   "id": "1193e396-77f1-48d9-a378-141f9ae0b491",
   "metadata": {},
   "source": [
    "#### Question 2:\t\n",
    "Arrange the dataset in descending order of retail_price and print the first three rows. Report in words the names of the three most expensive lego sets, their prices, and how many pieces each has."
   ]
  },
  {
   "cell_type": "code",
   "execution_count": 2,
   "id": "434c3555-0556-4332-a5c7-944834f407b8",
   "metadata": {},
   "outputs": [],
   "source": [
    "# Write your answer here\n",
    "# Sort by retail_price\n",
    "most_expensive_sets = lego.sort_values(by='retail_price', ascending=False).head(3)\n",
    "print(most_expensive_sets[['name', 'retail_price', 'pieces']])\n"
   ]
  },
  {
   "attachments": {},
   "cell_type": "markdown",
   "id": "e972d030-9086-4b6f-b4bf-02d61bd5b2af",
   "metadata": {},
   "source": [
    "#### Question 3:\n",
    "\n",
    "It appears that the most expensive sets generally have more pieces. Create a new variable (column) price_per_piece, representing the price in dollars per piece for each of the sets. Save the result as lego2. Hence, you will overwrite the current lego object."
   ]
  },
  {
   "cell_type": "code",
   "execution_count": 3,
   "id": "8061514b-9a20-45d0-9998-75f3ca9b1bc4",
   "metadata": {},
   "outputs": [],
   "source": [
    "# Write your answer here\n",
    "# Create price_per_piece column\n",
    "lego['price_per_piece'] = lego['retail_price'] / lego['pieces']\n"
   ]
  },
  {
   "attachments": {},
   "cell_type": "markdown",
   "id": "a66016ad-869d-4412-b809-749423e9c8d2",
   "metadata": {},
   "source": [
    "#### Question 4:\t\n",
    "\n",
    "Arrange the lego2 dataset in descending order of price_per_piece and return only the columns: name, themegroup, theme, pieces, price_per_piece, and the first five rows. What do you notice about these sets?"
   ]
  },
  {
   "cell_type": "code",
   "execution_count": 4,
   "id": "e4e623ce-d4d4-44d6-86a0-881a04eebf11",
   "metadata": {},
   "outputs": [],
   "source": [
    "# Write your answer here\n",
    "# Sort by price_per_piece and select specific columns\n",
    "lego2 = lego.sort_values(by='price_per_piece', ascending=False)\n",
    "result = lego2[['name', 'themegroup', 'theme', 'pieces', 'price_per_piece']].head(5)\n",
    "print(result)\n"
   ]
  },
  {
   "attachments": {},
   "cell_type": "markdown",
   "id": "1603a4f2-1e28-43e9-8677-87dcfaf61912",
   "metadata": {},
   "source": [
    "#### Question 5:\n",
    "\n",
    "What is the mean price_per_piece for the top 40 'Toy Story' sets in terms of price_per_piece?"
   ]
  },
  {
   "cell_type": "code",
   "execution_count": 5,
   "id": "af76d9ef-a022-4e73-97f4-ba3899219d8b",
   "metadata": {},
   "outputs": [],
   "source": [
    "# Write your answer here\n",
    "# Filter for 'Toy Story' sets and calculate mean price_per_piece\n",
    "toy_story_sets = lego[lego['theme'] == 'Toy Story'].nlargest(40, 'price_per_piece')\n",
    "mean_price_per_piece = toy_story_sets['price_per_piece'].mean()\n",
    "print(mean_price_per_piece)\n"
   ]
  },
  {
   "attachments": {},
   "cell_type": "markdown",
   "id": "45a75d99",
   "metadata": {},
   "source": [
    "#### Question 6:\n",
    "\n",
    "What are the unique themes in the lego dataset?"
   ]
  },
  {
   "cell_type": "code",
   "execution_count": 6,
   "id": "fbdb9c4c",
   "metadata": {},
   "outputs": [],
   "source": [
    "# Write your answer here\n",
    "# Get unique themes\n",
    "unique_themes = lego['theme'].unique()\n",
    "print(unique_themes)\n"
   ]
  }
 ],
 "metadata": {
  "kernelspec": {
   "display_name": "Python 3 (ipykernel)",
   "language": "python",
   "name": "python3"
  },
  "language_info": {
   "codemirror_mode": {
    "name": "ipython",
    "version": 3
   },
   "file_extension": ".py",
   "mimetype": "text/x-python",
   "name": "python",
   "nbconvert_exporter": "python",
   "pygments_lexer": "ipython3",
   "version": "3.9.13"
  }
 },
 "nbformat": 4,
 "nbformat_minor": 5
}
